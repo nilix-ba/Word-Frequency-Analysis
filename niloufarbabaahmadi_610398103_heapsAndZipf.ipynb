{
 "cells": [
  {
   "cell_type": "markdown",
   "id": "12b58587",
   "metadata": {},
   "source": [
    "# Heaps and Zipf Law\n",
    "\n",
    "#### by Niloufar Babaahmadi (610398103)"
   ]
  },
  {
   "cell_type": "code",
   "execution_count": 1,
   "id": "d92db013",
   "metadata": {},
   "outputs": [],
   "source": [
    "import pandas as pd\n",
    "import numpy as np\n",
    "import os\n",
    "from os import listdir\n",
    "from os.path import isfile, join\n",
    "import matplotlib.pyplot as plt\n",
    "from scipy import stats"
   ]
  },
  {
   "cell_type": "markdown",
   "id": "afa7c73d",
   "metadata": {},
   "source": [
    "First we need to read every file in folder and start analyzing our data."
   ]
  },
  {
   "cell_type": "code",
   "execution_count": 2,
   "id": "ec47e36f",
   "metadata": {},
   "outputs": [],
   "source": [
    "def inpt(path):\n",
    "    \n",
    "    #print('here')\n",
    "    #n = 0\n",
    "    \n",
    "    for root, dirs, files in os.walk(path):\n",
    "        for file in files:\n",
    "            filename, extension = os.path.splitext(file)\n",
    "            if extension == '.txt':\n",
    "                #n += 1\n",
    "                #print(file)\n",
    "                address = path + file\n",
    "                data = open(address, 'r')\n",
    "                analyze(data)\n",
    "                \n",
    "    #print(n)\n",
    "                "
   ]
  },
  {
   "cell_type": "markdown",
   "id": "a9dca97a",
   "metadata": {},
   "source": [
    "In order to work with literal words we need to get rid of any special symbols and numbers and also for not considering a word twice, all words have to switch into either lowercase or uppercase."
   ]
  },
  {
   "cell_type": "code",
   "execution_count": 3,
   "id": "7d545ab7",
   "metadata": {},
   "outputs": [],
   "source": [
    "def editor(line):\n",
    "    \n",
    "    #print(\"here1\")\n",
    "    bad_chars = \"!\\\"#$%&'()*+,-./:;<=>?@[\\]^_`{|}~0123456789\" #chars to delete\n",
    "        \n",
    "    #print(line)\n",
    "    line = line.lower() #lowercase all the words\n",
    "    #print(line)\n",
    "\n",
    "    for chars in bad_chars:\n",
    "\n",
    "        line = line.replace(chars, '')\n",
    "        #print(line)\n",
    "    \n",
    "    return line"
   ]
  },
  {
   "cell_type": "markdown",
   "id": "75d55a71",
   "metadata": {},
   "source": [
    "There are three fundemental reasons for analyzing each file: \n",
    "Firstly, to create a dictionary of the words and their frequency. \n",
    "Secondly, to keep count of all the words we have seen so far.\n",
    "and lastly, to keep count of all the words unique to each file."
   ]
  },
  {
   "cell_type": "code",
   "execution_count": 4,
   "id": "eec999f7",
   "metadata": {},
   "outputs": [],
   "source": [
    "def analyze(data):\n",
    "    \n",
    "    global dictionary\n",
    "    global full_count\n",
    "    \n",
    "    fcount = 0 #counts the overal words used\n",
    "    ucount = 0 #counts the unique words to this file\n",
    "    \n",
    "    for line in data:\n",
    "        \n",
    "        line = editor(line) #pre process the line to avoid mistakes\n",
    "    \n",
    "        words = line.split() \n",
    "\n",
    "        for word in words:\n",
    "\n",
    "            fcount += 1\n",
    "\n",
    "            if word not in dictionary: #if the current word doesnt exist in the dictionary then add it\n",
    "\n",
    "                dictionary[word] = 1\n",
    "                ucount += 1\n",
    "                #print(dictionary)\n",
    "\n",
    "            else: #if it already exists increment the value \n",
    "\n",
    "                dictionary[word] += 1  \n",
    "                #print(dictionary)\n",
    "     \n",
    "    l = len(full_count)\n",
    "    \n",
    "    if l != 0: #if we aren't on the first file, we need to add \n",
    "                #the words of the current files to the previous \n",
    "                #ones (words seen so far)\n",
    "        \n",
    "        fcount += full_count[l-1]\n",
    "        ucount += unique_count[l-1]\n",
    "    \n",
    "    full_count.append(fcount)\n",
    "    unique_count.append(ucount)"
   ]
  },
  {
   "cell_type": "markdown",
   "id": "fb8d0c87",
   "metadata": {},
   "source": [
    "### Heap \n",
    "\n",
    "the words seen so far and the unique words seen so far needs to create the x and Y for drawing the heaps plot."
   ]
  },
  {
   "cell_type": "code",
   "execution_count": 5,
   "id": "2edfc650",
   "metadata": {},
   "outputs": [],
   "source": [
    "def heap():\n",
    "\n",
    "    x = np.log10(full_count) \n",
    "    Y = np.log10(unique_count)\n",
    "\n",
    "    #plotting our data\n",
    "    plt.plot(x, Y)\n",
    "\n",
    "    #predicting Y\n",
    "    slope, intercept, r, p, std_err = stats.linregress(x, Y)\n",
    "    \n",
    "    print(\"Y_pred = \"+ str(slope) + \" X + \"+ str(intercept))\n",
    "    \n",
    "    y_pred = []\n",
    "    \n",
    "    for x1 in x:\n",
    "        \n",
    "        y_pred.append(slope*x1 + intercept)\n",
    "\n",
    "    lines = plt.plot(x, Y, x, y_pred)\n",
    "    l1, l2 = lines \n",
    "    #plotting the predicted valyes\n",
    "    plt.setp(l1, linestyle='-', linewidth=2, color='c')  \n",
    "    plt.setp(l2, linestyle='--', linewidth=1, color='k')  \n",
    "    plt.show()\n",
    "    \n",
    "    "
   ]
  },
  {
   "cell_type": "markdown",
   "id": "2d0aa304",
   "metadata": {},
   "source": [
    "### zipf\n",
    "\n",
    "ranks and frequencies will create the x and y for the plot."
   ]
  },
  {
   "cell_type": "code",
   "execution_count": 6,
   "id": "9ea27587",
   "metadata": {},
   "outputs": [],
   "source": [
    "def zipf():\n",
    "    \n",
    "    x = []\n",
    "    Y = []\n",
    "    #getting ranks for x axis\n",
    "    for i in range(1, len(dictionary)+1):\n",
    "        x.append(i)\n",
    "    #getting frequencies for Y axis   \n",
    "    values = dictionary.values()\n",
    "    Y = list(values)\n",
    "    \n",
    "    x = np.log10(x)  \n",
    "    Y = np.log10(Y)\n",
    "    #plotting our data\n",
    "    plt.plot(x, Y)\n",
    "    \n",
    "    #predicting y\n",
    "    slope, intercept, r, p, std_err = stats.linregress(x, Y)\n",
    "    print(\"Y_pred = \"+ str(slope) + \" X + \"+ str(intercept))\n",
    "    \n",
    "    y_pred = []\n",
    "    \n",
    "    for x1 in x:\n",
    "        \n",
    "        y_pred.append(slope*x1 + intercept)\n",
    "    \n",
    "    #plotting the predicted values\n",
    "    lines = plt.plot(x, Y, x, y_pred)\n",
    "    l1, l2 = lines      \n",
    "    plt.setp(l1, linestyle='-', linewidth=2, color='c')  \n",
    "    plt.setp(l2, linestyle='--', linewidth=1, color='k')  \n",
    "    plt.show()"
   ]
  },
  {
   "cell_type": "markdown",
   "id": "cd5c5acc",
   "metadata": {},
   "source": [
    "And finally everything is put together in this section:"
   ]
  },
  {
   "cell_type": "code",
   "execution_count": 7,
   "id": "510d09ab",
   "metadata": {},
   "outputs": [
    {
     "name": "stdout",
     "output_type": "stream",
     "text": [
      "heap:\n",
      "Y_pred = 0.6947022872131392 X + 0.632164023241236\n"
     ]
    },
    {
     "data": {
      "image/png": "[encoded data removed]",
      "text/plain": [
       "<Figure size 432x288 with 1 Axes>"
      ]
     },
     "metadata": {
      "needs_background": "light"
     },
     "output_type": "display_data"
    },
    {
     "name": "stdout",
     "output_type": "stream",
     "text": [
      "zipf:\n",
      "Y_pred = -0.959979772490498 X + 3.4561819056216776\n"
     ]
    },
    {
     "data": {
      "image/png": "[encoded data removed]",
      "text/plain": [
       "<Figure size 432x288 with 1 Axes>"
      ]
     },
     "metadata": {
      "needs_background": "light"
     },
     "output_type": "display_data"
    },
    {
     "name": "stdout",
     "output_type": "stream",
     "text": [
      "heap:\n",
      "Y_pred = 0.7138270042706979 X + 0.5608805117477078\n"
     ]
    },
    {
     "data": {
      "image/png": "[encoded data removed]",
      "text/plain": [
       "<Figure size 432x288 with 1 Axes>"
      ]
     },
     "metadata": {
      "needs_background": "light"
     },
     "output_type": "display_data"
    },
    {
     "name": "stdout",
     "output_type": "stream",
     "text": [
      "zipf:\n",
      "Y_pred = -0.9981125761752597 X + 3.7170777781768405\n"
     ]
    },
    {
     "data": {
      "image/png": "[encoded data removed]",
      "text/plain": [
       "<Figure size 432x288 with 1 Axes>"
      ]
     },
     "metadata": {
      "needs_background": "light"
     },
     "output_type": "display_data"
    }
   ],
   "source": [
    "global dictionary\n",
    "global full_count\n",
    "global unique_count\n",
    "\n",
    "dictionary = {} #stores words of all the files and their frequency\n",
    "full_count = [] #counts all of the words of each file\n",
    "unique_count = [] #counts the unique words each file adds to the dictionary\n",
    "\n",
    "#you can change entertainment to medical and get different results\n",
    "inpt(\"entertainment/\")\n",
    "\n",
    "print(\"heap:\")\n",
    "heap()\n",
    "\n",
    "dictionary= dict(sorted(dictionary.items(), key=lambda item: item[1], reverse=True))\n",
    "\n",
    "print(\"zipf:\")\n",
    "zipf()\n",
    "\n",
    "#################################\n",
    "\n",
    "dictionary = {}\n",
    "full_count = [] \n",
    "unique_count = [] \n",
    "\n",
    "inpt(\"medical/\")\n",
    "\n",
    "print(\"heap:\")\n",
    "heap()\n",
    "\n",
    "dictionary= dict(sorted(dictionary.items(), key=lambda item: item[1], reverse=True))\n",
    "\n",
    "print(\"zipf:\")\n",
    "zipf()\n",
    "\n",
    "#print(dictionary)\n",
    "#print(full_count)\n",
    "#print(unique_count)"
   ]
  }
 ],
 "metadata": {
  "kernelspec": {
   "display_name": "Python 3 (ipykernel)",
   "language": "python",
   "name": "python3"
  },
  "language_info": {
   "codemirror_mode": {
    "name": "ipython",
    "version": 3
   },
   "file_extension": ".py",
   "mimetype": "text/x-python",
   "name": "python",
   "nbconvert_exporter": "python",
   "pygments_lexer": "ipython3",
   "version": "3.10.12"
  }
 },
 "nbformat": 4,
 "nbformat_minor": 5
}
